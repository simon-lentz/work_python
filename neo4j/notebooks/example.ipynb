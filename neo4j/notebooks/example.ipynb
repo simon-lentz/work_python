{
 "cells": [
  {
   "cell_type": "code",
   "execution_count": null,
   "metadata": {},
   "outputs": [],
   "source": [
    "# Wyrth ORM -> worm\n",
    "from worm.config import make_db_connection, Neo4jConfig\n",
    "from worm.cypher import run_query\n",
    "from worm.apoc import retrieve_nodes"
   ]
  },
  {
   "cell_type": "code",
   "execution_count": null,
   "metadata": {},
   "outputs": [],
   "source": [
    "# Setup connection with default values\n",
    "# config = Neo4jConfig()\n",
    "\n",
    "# Setup connection with custom values\n",
    "custom_config = Neo4jConfig(username='neo4j', password='alaskadb', address='localhost', bolt_port='7687', database_name='neo4j')\n",
    "\n",
    "# Attempt to connect to the database using the custom configuration\n",
    "if make_db_connection(custom_config):\n",
    "    test_query = '''\n",
    "    MATCH (n:StateIssuer)\n",
    "    RETURN n\n",
    "    LIMIT 1;\n",
    "    '''\n",
    "    results, meta = run_query(test_query)\n",
    "    if results:\n",
    "        print(results)\n",
    "    else:\n",
    "        print(\"No results found.\")"
   ]
  },
  {
   "cell_type": "code",
   "execution_count": null,
   "metadata": {},
   "outputs": [],
   "source": [
    "cities = retrieve_nodes(node_label=\"City\")\n",
    "for city in cities:\n",
    "    print(city)\n",
    "\n",
    "sissuers = retrieve_nodes(node_label=\"StateIssuer\")\n",
    "for issuer in sissuers:\n",
    "    print(issuer)"
   ]
  }
 ],
 "metadata": {
  "kernelspec": {
   "display_name": "Python 3",
   "language": "python",
   "name": "python3"
  },
  "language_info": {
   "codemirror_mode": {
    "name": "ipython",
    "version": 3
   },
   "file_extension": ".py",
   "mimetype": "text/x-python",
   "name": "python",
   "nbconvert_exporter": "python",
   "pygments_lexer": "ipython3",
   "version": "3.11.7"
  },
  "orig_nbformat": 4
 },
 "nbformat": 4,
 "nbformat_minor": 2
}
