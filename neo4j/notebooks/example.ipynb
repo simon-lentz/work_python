{
 "cells": [
  {
   "cell_type": "code",
   "execution_count": 1,
   "metadata": {},
   "outputs": [
    {
     "ename": "ModuleNotFoundError",
     "evalue": "No module named 'worm'",
     "output_type": "error",
     "traceback": [
      "\u001b[0;31m---------------------------------------------------------------------------\u001b[0m",
      "\u001b[0;31mModuleNotFoundError\u001b[0m                       Traceback (most recent call last)",
      "Cell \u001b[0;32mIn[1], line 3\u001b[0m\n\u001b[1;32m      1\u001b[0m \u001b[38;5;66;03m# Wyrth ORM -> worm\u001b[39;00m\n\u001b[0;32m----> 3\u001b[0m \u001b[38;5;28;01mfrom\u001b[39;00m \u001b[38;5;21;01mworm\u001b[39;00m\u001b[38;5;21;01m.\u001b[39;00m\u001b[38;5;21;01mconfig\u001b[39;00m \u001b[38;5;28;01mimport\u001b[39;00m make_db_connection\n\u001b[1;32m      4\u001b[0m \u001b[38;5;28;01mfrom\u001b[39;00m \u001b[38;5;21;01mworm\u001b[39;00m\u001b[38;5;21;01m.\u001b[39;00m\u001b[38;5;21;01mcypher\u001b[39;00m \u001b[38;5;28;01mimport\u001b[39;00m fetch_city_node, fetch_county_node, fetch_state_node\n\u001b[1;32m      5\u001b[0m \u001b[38;5;28;01mfrom\u001b[39;00m \u001b[38;5;21;01mworm\u001b[39;00m\u001b[38;5;21;01m.\u001b[39;00m\u001b[38;5;21;01mapoc\u001b[39;00m \u001b[38;5;28;01mimport\u001b[39;00m retrieve_city_nodes\n",
      "\u001b[0;31mModuleNotFoundError\u001b[0m: No module named 'worm'"
     ]
    }
   ],
   "source": [
    "# Wyrth ORM -> worm\n",
    "\n",
    "from worm.config import make_db_connection\n",
    "from worm.cypher import fetch_city_node, fetch_county_node, fetch_state_node\n",
    "from worm.apoc import retrieve_city_nodes"
   ]
  },
  {
   "cell_type": "code",
   "execution_count": null,
   "metadata": {},
   "outputs": [
    {
     "name": "stderr",
     "output_type": "stream",
     "text": [
      "2024-05-02 10:57:57,191 - Neo4j ORM - INFO - [['Connection Successful']]\n"
     ]
    },
    {
     "name": "stdout",
     "output_type": "stream",
     "text": [
      "[[<City: {'uid': '94141aa3-aa64-5863-8b11-f2eb35997efb', 'countyName': 'Matanuska-Susitna Borough', 'countyFIPS': '02170', 'cbsaTitle': 'Anchorage, AK', 'cbsaCode': '11260', 'stateName': 'Alaska', 'stateFIPS': '02', 'element_id_property': '4:4d462c4c-af5a-4f81-a1cf-57f6091aba18:7663'}>]]\n",
      "[[<State: {'uid': '1f5637c7-a42c-5c64-bf76-ef50d44093dd', 'stateName': 'Alaska', 'stateFIPS': '02', 'element_id_property': '4:4d462c4c-af5a-4f81-a1cf-57f6091aba18:7632'}>]]\n",
      "[[<County: {'uid': 'c56034cf-8b32-5516-bc62-f0a8209236cf', 'countyName': 'Aleutians East Borough', 'countyFIPS': '02013', 'stateName': 'Alaska', 'stateFIPS': '02', 'element_id_property': '4:4d462c4c-af5a-4f81-a1cf-57f6091aba18:7633'}>]]\n"
     ]
    }
   ],
   "source": [
    "# Attempt to connect to the database, printing sample \n",
    "# nodes if the connection is successful\n",
    "if make_db_connection():\n",
    "    print(fetch_city_node())\n",
    "    print(fetch_state_node())\n",
    "    print(fetch_county_node())"
   ]
  },
  {
   "cell_type": "code",
   "execution_count": null,
   "metadata": {},
   "outputs": [
    {
     "name": "stdout",
     "output_type": "stream",
     "text": [
      "{'uid': '94141aa3-aa64-5863-8b11-f2eb35997efb', 'countyName': 'Matanuska-Susitna Borough', 'countyFIPS': '02170', 'cbsaTitle': 'Anchorage, AK', 'cbsaCode': '11260', 'stateName': 'Alaska', 'stateFIPS': '02', 'element_id_property': '4:4d462c4c-af5a-4f81-a1cf-57f6091aba18:7663'}\n",
      "{'uid': '0f410f7c-3360-50e1-af74-220de8450adc', 'countyName': 'Fairbanks North Star Borough', 'countyFIPS': '02090', 'cbsaTitle': 'Fairbanks-College, AK', 'cbsaCode': '21820', 'stateName': 'Alaska', 'stateFIPS': '02', 'element_id_property': '4:4d462c4c-af5a-4f81-a1cf-57f6091aba18:7664'}\n",
      "{'uid': '94927a3c-eddd-5b09-8613-0e450a230688', 'countyName': 'Juneau City and Borough', 'countyFIPS': '02110', 'cbsaTitle': 'Juneau, AK', 'cbsaCode': '27940', 'stateName': 'Alaska', 'stateFIPS': '02', 'element_id_property': '4:4d462c4c-af5a-4f81-a1cf-57f6091aba18:7665'}\n",
      "{'uid': '79613372-2967-57a4-a95c-3b6ecfe9928f', 'countyName': 'Ketchikan Gateway Borough', 'countyFIPS': '02130', 'cbsaTitle': 'Ketchikan, AK', 'cbsaCode': '28540', 'stateName': 'Alaska', 'stateFIPS': '02', 'element_id_property': '4:4d462c4c-af5a-4f81-a1cf-57f6091aba18:7666'}\n"
     ]
    }
   ],
   "source": [
    "for city in retrieve_city_nodes():\n",
    "    print(city)"
   ]
  }
 ],
 "metadata": {
  "kernelspec": {
   "display_name": "Python 3",
   "language": "python",
   "name": "python3"
  },
  "language_info": {
   "codemirror_mode": {
    "name": "ipython",
    "version": 3
   },
   "file_extension": ".py",
   "mimetype": "text/x-python",
   "name": "python",
   "nbconvert_exporter": "python",
   "pygments_lexer": "ipython3",
   "version": "3.11.7"
  },
  "orig_nbformat": 4
 },
 "nbformat": 4,
 "nbformat_minor": 2
}
