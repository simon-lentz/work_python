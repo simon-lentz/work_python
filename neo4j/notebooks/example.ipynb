{
 "cells": [
  {
   "cell_type": "code",
   "execution_count": null,
   "metadata": {},
   "outputs": [],
   "source": [
    "# Wyrth ORM -> worm\n",
    "from worm.config import make_db_connection, Neo4jConfig\n",
    "from worm.cypher import fetch_city_node, fetch_county_node, fetch_state_node\n",
    "from worm.apoc import retrieve_nodes"
   ]
  },
  {
   "cell_type": "code",
   "execution_count": null,
   "metadata": {},
   "outputs": [],
   "source": [
    "# setup connection\n",
    "config = Neo4jConfig()\n",
    "\n",
    "# Attempt to connect to the database, printing sample \n",
    "# nodes if the connection is successful\n",
    "if make_db_connection(config):\n",
    "    print(fetch_city_node())\n",
    "    print(fetch_state_node())\n",
    "    print(fetch_county_node())"
   ]
  },
  {
   "cell_type": "code",
   "execution_count": null,
   "metadata": {},
   "outputs": [],
   "source": [
    "cities = retrieve_nodes(node_label=\"City\")\n",
    "for city in cities:\n",
    "    print(city)\n",
    "\n",
    "counties = retrieve_nodes(node_label=\"County\")\n",
    "for county in counties:\n",
    "    print(county)"
   ]
  }
 ],
 "metadata": {
  "kernelspec": {
   "display_name": "Python 3",
   "language": "python",
   "name": "python3"
  },
  "language_info": {
   "codemirror_mode": {
    "name": "ipython",
    "version": 3
   },
   "file_extension": ".py",
   "mimetype": "text/x-python",
   "name": "python",
   "nbconvert_exporter": "python",
   "pygments_lexer": "ipython3",
   "version": "3.11.7"
  },
  "orig_nbformat": 4
 },
 "nbformat": 4,
 "nbformat_minor": 2
}
