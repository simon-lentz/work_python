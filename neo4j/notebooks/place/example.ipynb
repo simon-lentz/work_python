{
 "cells": [
  {
   "cell_type": "code",
   "execution_count": 5,
   "metadata": {},
   "outputs": [],
   "source": [
    "# This jupyter notebook provides demonstrates\n",
    "# how a local neo4j server (started on Neo4j Desktop),\n",
    "# with a graph instance can be integrated into a Python workflow. "
   ]
  },
  {
   "cell_type": "code",
   "execution_count": 6,
   "metadata": {},
   "outputs": [],
   "source": [
    "from neomodel import db, config"
   ]
  },
  {
   "cell_type": "code",
   "execution_count": 7,
   "metadata": {},
   "outputs": [],
   "source": [
    "USERNAME = \"\"\n",
    "PASSWORD = \"\"\n",
    "ADDRESS = \"\"\n",
    "BOLT_PORT = \"\"\n",
    "\n",
    "config.DATABASE_URL = f\"bolt://{USERNAME}:{PASSWORD}@{ADDRESS}:{BOLT_PORT}\""
   ]
  },
  {
   "cell_type": "code",
   "execution_count": 8,
   "metadata": {},
   "outputs": [],
   "source": [
    "state_node_example = '''\n",
    "MATCH (n:State)\n",
    "RETURN n as State\n",
    "LIMIT 3;\n",
    "'''\n",
    "\n",
    "county_node_example = '''\n",
    "MATCH (n:County)\n",
    "RETURN n as County\n",
    "LIMIT 3;\n",
    "'''\n",
    "\n",
    "city_node_example = '''\n",
    "MATCH (n:City)\n",
    "RETURN n as City\n",
    "LIMIT 3;\n",
    "'''\n",
    "\n",
    "example_queries = [state_node_example, county_node_example, city_node_example]"
   ]
  },
  {
   "cell_type": "code",
   "execution_count": 9,
   "metadata": {},
   "outputs": [
    {
     "name": "stdout",
     "output_type": "stream",
     "text": [
      "[[<Node element_id='4:74424d09-d950-4491-9c3e-cfc9484087e1:0' labels=frozenset({'State'}) properties={'uid': '12e8bc12-fbed-5e89-803c-8b6bb036d67a', 'stateFIPS': '01', 'stateName': 'Alabama'}>], [<Node element_id='4:74424d09-d950-4491-9c3e-cfc9484087e1:1' labels=frozenset({'State'}) properties={'uid': '2aa07dfa-c3a6-535f-ab35-83c358807189', 'stateFIPS': '02', 'stateName': 'Alaska'}>], [<Node element_id='4:74424d09-d950-4491-9c3e-cfc9484087e1:2' labels=frozenset({'State'}) properties={'uid': '9bd0f81f-6868-51f7-b1e1-fc221e9cf3fc', 'stateFIPS': '04', 'stateName': 'Arizona'}>]] ['State']\n",
      "[[<Node element_id='4:74424d09-d950-4491-9c3e-cfc9484087e1:51' labels=frozenset({'County'}) properties={'uid': 'd183b30e-18d9-5c99-8d9a-2d16f0397964', 'stateFIPS': '01', 'stateName': 'Alabama', 'countyFIPS': '01001', 'countyName': 'Autauga County'}>], [<Node element_id='4:74424d09-d950-4491-9c3e-cfc9484087e1:52' labels=frozenset({'County'}) properties={'uid': '99a80d2e-afe7-52fb-8f16-f8f5f9ab08ac', 'stateFIPS': '01', 'stateName': 'Alabama', 'countyFIPS': '01003', 'countyName': 'Baldwin County'}>], [<Node element_id='4:74424d09-d950-4491-9c3e-cfc9484087e1:53' labels=frozenset({'County'}) properties={'uid': 'be56cb0f-23d1-5c49-b140-bf2c1491f353', 'stateFIPS': '01', 'stateName': 'Alabama', 'countyFIPS': '01005', 'countyName': 'Barbour County'}>]] ['County']\n",
      "[[<Node element_id='4:74424d09-d950-4491-9c3e-cfc9484087e1:3194' labels=frozenset({'City'}) properties={'cbsaCode': '10100', 'uid': 'a3f33a52-0f98-59db-b0ba-0040fa0e6718', 'stateFIPS': '46', 'stateName': 'South Dakota', 'cbsaTitle': 'Aberdeen, SD', 'countyFIPS': '46045', 'countyName': 'Edmunds County'}>], [<Node element_id='4:74424d09-d950-4491-9c3e-cfc9484087e1:3195' labels=frozenset({'City'}) properties={'cbsaCode': '10140', 'uid': '9d7d6195-22ee-5daf-a94b-1132ffbd1dbc', 'stateFIPS': '53', 'stateName': 'Washington', 'cbsaTitle': 'Aberdeen, WA', 'countyFIPS': '53027', 'countyName': 'Grays Harbor County'}>], [<Node element_id='4:74424d09-d950-4491-9c3e-cfc9484087e1:3196' labels=frozenset({'City'}) properties={'uid': '5219335d-f10d-530a-833d-76d8d2c2ddbf', 'cbsaCode': '10180', 'stateFIPS': '48', 'stateName': 'Texas', 'cbsaTitle': 'Abilene, TX', 'countyFIPS': '48441', 'countyName': 'Taylor County', 'csaTitle': 'Abilene-Sweetwater, TX'}>]] ['City']\n"
     ]
    }
   ],
   "source": [
    "for query in example_queries:\n",
    "    results, meta = db.cypher_query(query)\n",
    "    print(results, meta)"
   ]
  }
 ],
 "metadata": {
  "kernelspec": {
   "display_name": "Python 3",
   "language": "python",
   "name": "python3"
  },
  "language_info": {
   "codemirror_mode": {
    "name": "ipython",
    "version": 3
   },
   "file_extension": ".py",
   "mimetype": "text/x-python",
   "name": "python",
   "nbconvert_exporter": "python",
   "pygments_lexer": "ipython3",
   "version": "3.11.7"
  },
  "orig_nbformat": 4
 },
 "nbformat": 4,
 "nbformat_minor": 2
}
