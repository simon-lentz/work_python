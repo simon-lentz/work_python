{
 "cells": [
  {
   "cell_type": "code",
   "execution_count": 1,
   "metadata": {},
   "outputs": [],
   "source": [
    "# This jupyter notebook demonstrates for how a local neo4j \n",
    "# server (running/started in Neo4j Desktop)\n",
    "# with a populated instance of the geograph model \n",
    "# (named \"geograph\" in this example) can be integrated\n",
    "# into a Python workflow. "
   ]
  },
  {
   "cell_type": "code",
   "execution_count": 2,
   "metadata": {},
   "outputs": [],
   "source": [
    "from py2neo import Graph,Node,Relationship\n",
    "import pandas as pd"
   ]
  },
  {
   "cell_type": "code",
   "execution_count": 3,
   "metadata": {},
   "outputs": [],
   "source": [
    "geograph = Graph(\"http://localhost:7474\", name=\"geograph\")"
   ]
  },
  {
   "cell_type": "code",
   "execution_count": 4,
   "metadata": {},
   "outputs": [],
   "source": [
    "base_view_query = '''\n",
    "MATCH (s:State)-[]-(c:County)-[r]-(t:Censustract)\n",
    "WITH s, s.stateName AS state, c.countyName AS baseName, count(r) AS baseIndegree\n",
    "MERGE (n:BaseView { stateName:state, countyName:baseName, startingIndegree:baseIndegree });\n",
    "'''"
   ]
  },
  {
   "cell_type": "code",
   "execution_count": 5,
   "metadata": {},
   "outputs": [],
   "source": [
    "filtered_view_query = '''\n",
    "MATCH (s:State)-[]-(c:County)-[r]-(t:Censustract)\n",
    "WHERE\n",
    "(t.leakyUndergroundStorageTanksPercentile >= 90 OR t.wastewaterDischargePercentile >= 90)\n",
    " AND t.percentOfIndividualsBelow200FederalPovertyLinePercentile >= 65\n",
    " AND\n",
    "(t.expectedAgriculturalLossRateNaturalHazardsRiskIndexPercentile >= 90\n",
    " OR t.expectedBuildingLossRateNaturalHazardsRiskIndexPercentile >= 90\n",
    " OR t.expectedPopulationLossRateNaturalHazardsRiskIndexPercentile >= 90\n",
    " OR t.shareOfPropertiesAtRiskOfFloodIn30YearsPercentile >= 90\n",
    " OR t.shareOfPropertiesAtRiskOfFireIn30YearsPercentile >= 90)\n",
    "WITH s, c, count(r) AS indegree\n",
    "WITH s, s.stateName AS state, c.countyName AS county, indegree\n",
    "MERGE (n:FilteredView { stateName: state, countyName: county, finalIndegree: indegree });\n",
    "'''"
   ]
  },
  {
   "cell_type": "code",
   "execution_count": 6,
   "metadata": {},
   "outputs": [],
   "source": [
    "table_output_query = '''\n",
    "MATCH (b:BaseView), (f:FilteredView)\n",
    "WHERE (b.stateName = f.stateName) AND (b.countyName = f.countyName)\n",
    "RETURN\n",
    "b.stateName AS State_Name,\n",
    "b.countyName AS County_Name,\n",
    "b.startingIndegree AS Initial_Indegree,\n",
    "f.finalIndegree AS Filtered_Indegree,\n",
    "toFloat(f.finalIndegree) / toFloat(b.startingIndegree) AS Proportion\n",
    " ORDER BY Proportion DESC;\n",
    "'''"
   ]
  },
  {
   "cell_type": "code",
   "execution_count": 7,
   "metadata": {},
   "outputs": [],
   "source": [
    "# This cell should only be run once. \n",
    "# Running it multiple times will create\n",
    "# duplicates of the nodes merged by\n",
    "# base_view_query and filtered_view_query\n",
    "geograph.evaluate(base_view_query)\n",
    "geograph.evaluate(filtered_view_query)"
   ]
  },
  {
   "cell_type": "code",
   "execution_count": 8,
   "metadata": {},
   "outputs": [],
   "source": [
    "# This cell can be run arbitrarily, table_output_query\n",
    "# only writes to stdout, not to the graph.\n",
    "df = geograph.run(table_output_query).to_data_frame()"
   ]
  },
  {
   "cell_type": "code",
   "execution_count": null,
   "metadata": {},
   "outputs": [],
   "source": [
    "# Separating the printing of the dataframe table view\n",
    "# allows for verification of a queries output independent \n",
    "# of that query. \n",
    "df"
   ]
  },
  {
   "cell_type": "code",
   "execution_count": 9,
   "metadata": {},
   "outputs": [],
   "source": [
    "# IMPORTANT\n",
    "# After verifying your table output you must use \n",
    "# the DETACH DELETE query in this cell to\n",
    "# clean up your local graph instance.\n",
    "base_view_cleanup_query = '''\n",
    "MATCH (n:BaseView)\n",
    "DETACH DELETE n;\n",
    "'''\n",
    "filtered_view_cleanup_query = '''\n",
    "MATCH (n:FilteredView)\n",
    "DETACH DELETE n;\n",
    "'''\n",
    "geograph.evaluate(base_view_cleanup_query)\n",
    "geograph.evaluate(filtered_view_cleanup_query)"
   ]
  },
  {
   "cell_type": "code",
   "execution_count": 11,
   "metadata": {},
   "outputs": [],
   "source": [
    "# Isolating table export ensures that EDA, in-depth analysis, \n",
    "# documentation, etc. takes place independent of the graph \n",
    "# instance. The data can be manipulated and experimented \n",
    "# upon without mutating the graph.\n",
    "output = pd.DataFrame(df)\n",
    "output.to_csv(\"output.csv\")"
   ]
  }
 ],
 "metadata": {
  "kernelspec": {
   "display_name": "Python 3",
   "language": "python",
   "name": "python3"
  },
  "language_info": {
   "codemirror_mode": {
    "name": "ipython",
    "version": 3
   },
   "file_extension": ".py",
   "mimetype": "text/x-python",
   "name": "python",
   "nbconvert_exporter": "python",
   "pygments_lexer": "ipython3",
   "version": "3.11.5"
  },
  "orig_nbformat": 4
 },
 "nbformat": 4,
 "nbformat_minor": 2
}
