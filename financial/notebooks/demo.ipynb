{
 "cells": [
  {
   "cell_type": "code",
   "execution_count": 55,
   "metadata": {},
   "outputs": [],
   "source": [
    "# This jupyter notebook provides demonstrates\n",
    "# how a local neo4j server (started on Neo4j Desktop),\n",
    "# with a graph instance can be integrated into a Python workflow. "
   ]
  },
  {
   "cell_type": "code",
   "execution_count": 56,
   "metadata": {},
   "outputs": [],
   "source": [
    "from py2neo import Graph,Node,Relationship"
   ]
  },
  {
   "cell_type": "code",
   "execution_count": 57,
   "metadata": {},
   "outputs": [],
   "source": [
    "port = \"7474\"\n",
    "graph_name = \"password\"\n",
    "graph_instance = Graph(f\"http://localhost:{port}\", name=f\"{graph_name}\")"
   ]
  },
  {
   "cell_type": "code",
   "execution_count": 58,
   "metadata": {},
   "outputs": [],
   "source": [
    "test_query = '''\n",
    "MATCH (n:BondSecurity)-[r:PART_OF_BondIssue]-(nn:BondIssue)-[rr:ISSUED_BY_BondIssuer]-(nnn:BondIssuer)\n",
    "RETURN n, r, nn, rr, nnn\n",
    "LIMIT 1;\n",
    "'''"
   ]
  },
  {
   "cell_type": "code",
   "execution_count": 59,
   "metadata": {},
   "outputs": [],
   "source": [
    "test_output = graph_instance.evaluate(test_query)"
   ]
  },
  {
   "cell_type": "code",
   "execution_count": 60,
   "metadata": {},
   "outputs": [
    {
     "name": "stdout",
     "output_type": "stream",
     "text": [
      "ltKBRARating\n",
      "bondDescription\n",
      "issueID\n",
      "coupon\n",
      "principalAmtUSD\n",
      "ltMoodysRating\n",
      "offerPricePct\n",
      "offerYieldPct\n",
      "ltFitchRating\n",
      "ltSPRating\n",
      "uid\n",
      "bondID\n",
      "maturityDate\n",
      "dateRetrieved\n",
      "bondCUSIP\n",
      "offerPriceYieldRatio\n",
      "bondLink\n",
      "issueDescription\n"
     ]
    }
   ],
   "source": [
    "for output in test_output:\n",
    "    print(output)"
   ]
  }
 ],
 "metadata": {
  "kernelspec": {
   "display_name": "Python 3",
   "language": "python",
   "name": "python3"
  },
  "language_info": {
   "codemirror_mode": {
    "name": "ipython",
    "version": 3
   },
   "file_extension": ".py",
   "mimetype": "text/x-python",
   "name": "python",
   "nbconvert_exporter": "python",
   "pygments_lexer": "ipython3",
   "version": "3.11.7"
  },
  "orig_nbformat": 4
 },
 "nbformat": 4,
 "nbformat_minor": 2
}
